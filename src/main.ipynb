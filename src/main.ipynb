{
 "cells": [
  {
   "cell_type": "markdown",
   "id": "3b47be4f",
   "metadata": {},
   "source": [
    "# Feature Extraction"
   ]
  },
  {
   "cell_type": "code",
   "execution_count": null,
   "id": "f55105e1",
   "metadata": {},
   "outputs": [
    {
     "name": "stdout",
     "output_type": "stream",
     "text": [
      "Extracting image stats...\n"
     ]
    },
    {
     "name": "stderr",
     "output_type": "stream",
     "text": [
      "100%|██████████| 5488/5488 [00:02<00:00, 2099.76it/s]\n"
     ]
    },
    {
     "name": "stdout",
     "output_type": "stream",
     "text": [
      "Extracting image stats...\n"
     ]
    },
    {
     "name": "stderr",
     "output_type": "stream",
     "text": [
      "100%|██████████| 2353/2353 [00:01<00:00, 2140.74it/s]\n"
     ]
    }
   ],
   "source": [
    "#image_stats\n",
    "import os\n",
    "import cv2\n",
    "import numpy as np\n",
    "import pandas as pd\n",
    "from skimage.measure import shannon_entropy\n",
    "from tqdm import tqdm\n",
    "\n",
    "# Set path to training image folder\n",
    "TRAIN_DIR = \"../train\"  \n",
    "TEST_DIR = \"../test\"\n",
    "\n",
    "def extract_stats_from_image(image_path):\n",
    "    img = cv2.imread(image_path)\n",
    "    img_rgb = cv2.cvtColor(img, cv2.COLOR_BGR2RGB)\n",
    "    \n",
    "    features = {}\n",
    "    for i, channel in enumerate(['R', 'G', 'B']):\n",
    "        c_data = img_rgb[:, :, i]\n",
    "        features[f'{channel}_mean'] = np.mean(c_data)\n",
    "        features[f'{channel}_std'] = np.std(c_data)\n",
    "        features[f'{channel}_min'] = np.min(c_data)\n",
    "        features[f'{channel}_max'] = np.max(c_data)\n",
    "        features[f'{channel}_entropy'] = shannon_entropy(c_data)\n",
    "    \n",
    "    features['image_entropy'] = shannon_entropy(cv2.cvtColor(img, cv2.COLOR_BGR2GRAY))\n",
    "    features['image_height'] = img.shape[0]\n",
    "    features['image_width'] = img.shape[1]\n",
    "    return features\n",
    "\n",
    "def build_feature_df(metadata_csv, image_dir):\n",
    "    df = pd.read_csv(metadata_csv)\n",
    "    feature_list = []\n",
    "    \n",
    "    print(\"Extracting image stats...\")\n",
    "    for path in tqdm(df['image_path']):\n",
    "        full_path = os.path.join(image_dir, path)\n",
    "        stats = extract_stats_from_image(full_path)\n",
    "        stats['Path'] = path\n",
    "        feature_list.append(stats)\n",
    "\n",
    "    return pd.DataFrame(feature_list)\n",
    "\n",
    "# Example usage\n",
    "train_features_df = build_feature_df(\"../2025_A2/train/train_metadata.csv\", \"../2025_A2/train\")\n",
    "test_features_df = build_feature_df(\"../2025_A2/test/test_metadata.csv\", \"../2025_A2/test\")\n",
    "\n",
    "# Save to CSV (optional)\n",
    "train_features_df.to_csv(\"../2025_A2/train/train_image_stats.csv\", index=False)\n",
    "test_features_df.to_csv(\"../2025_A2/test/test_image_stats.csv\", index=False)\n"
   ]
  }
 ],
 "metadata": {
  "kernelspec": {
   "display_name": "base",
   "language": "python",
   "name": "python3"
  },
  "language_info": {
   "codemirror_mode": {
    "name": "ipython",
    "version": 3
   },
   "file_extension": ".py",
   "mimetype": "text/x-python",
   "name": "python",
   "nbconvert_exporter": "python",
   "pygments_lexer": "ipython3",
   "version": "3.11.3"
  }
 },
 "nbformat": 4,
 "nbformat_minor": 5
}
